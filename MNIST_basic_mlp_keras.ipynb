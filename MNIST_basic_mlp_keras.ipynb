{
 "cells": [
  {
   "cell_type": "code",
   "execution_count": 13,
   "metadata": {
    "id": "D8qeBuPiSSdc"
   },
   "outputs": [],
   "source": [
    "from __future__ import print_function\n",
    "\n",
    "import keras\n",
    "from keras.datasets import mnist\n",
    "from keras.models import Model\n",
    "from keras.layers import Input, Dense, Activation, Dropout, GaussianNoise\n",
    "from keras.optimizers import Adam\n",
    "\n",
    "from itertools import product"
   ]
  },
  {
   "cell_type": "code",
   "execution_count": 2,
   "metadata": {
    "id": "iaWFWm8mSTBj"
   },
   "outputs": [],
   "source": [
    "batch_size = 128\n",
    "epochs = 25\n",
    "num_classes=10"
   ]
  },
  {
   "cell_type": "code",
   "execution_count": 3,
   "metadata": {
    "colab": {
     "base_uri": "https://localhost:8080/"
    },
    "id": "fZ9D1F8FSTWW",
    "outputId": "3075bfb6-08bb-41e8-ed81-fd5f1243802b"
   },
   "outputs": [
    {
     "name": "stdout",
     "output_type": "stream",
     "text": [
      "Downloading data from https://storage.googleapis.com/tensorflow/tf-keras-datasets/mnist.npz\n",
      "11493376/11490434 [==============================] - 7s 1us/step\n",
      "training set (60000, 28, 28)\n",
      "test set (10000, 28, 28)\n"
     ]
    }
   ],
   "source": [
    "(x_train, y_train), (x_test, y_test) = mnist.load_data()\n",
    "\n",
    "print('training set', x_train.shape)\n",
    "print('test set', x_test.shape)\n",
    "\n",
    "x_train = x_train.reshape(60000, 784)\n",
    "x_test = x_test.reshape(10000, 784)\n",
    "x_train = x_train.astype('float32')\n",
    "x_test = x_test.astype('float32')\n",
    "\n",
    "# Normalize [0..255]-->[0..1]\n",
    "x_train /= 255\n",
    "x_test /= 255\n",
    "\n",
    "# convert class vectors to binary class matrices\n",
    "y_train = keras.utils.to_categorical(y_train, num_classes)\n",
    "y_test = keras.utils.to_categorical(y_test, num_classes)"
   ]
  },
  {
   "cell_type": "code",
   "execution_count": 20,
   "metadata": {
    "colab": {
     "base_uri": "https://localhost:8080/"
    },
    "id": "pFy6tdc0STtb",
    "outputId": "039e0edb-aee3-42ea-fddb-1082aa91a5c9"
   },
   "outputs": [],
   "source": [
    "def run_model_args(args):\n",
    "    inp = Input(shape=(784))\n",
    "    \n",
    "    x = inp\n",
    "    \n",
    "    for _ in range(args[\"hl\"]):\n",
    "        x = Dense(args[\"hls\"])(x)\n",
    "        x = Activation(args[\"activation\"])(x)\n",
    "        \n",
    "    x = Dense(10)(x)\n",
    "    output = Activation('softmax')(x)\n",
    "\n",
    "    model = Model(inp, output)\n",
    "\n",
    "    #model.summary()\n",
    "    \n",
    "    opt=Adam(learning_rate=args[\"lr\"])\n",
    "\n",
    "    model.compile(loss='categorical_crossentropy',\n",
    "                  optimizer=opt,\n",
    "                  metrics=['accuracy'])\n",
    "    \n",
    "    history = model.fit(x_train, y_train,\n",
    "                        batch_size=batch_size,\n",
    "                        epochs=epochs,\n",
    "                        verbose=0,\n",
    "                        validation_data=(x_test, y_test))\n",
    "\n",
    "    # Evaluate over test\n",
    "    score = model.evaluate(x_test, y_test, verbose=0)\n",
    "\n",
    "\n",
    "    print('Test loss:', score[0])\n",
    "    print('Test accuracy:', score[1])\n",
    "    \n",
    "    return score[1]"
   ]
  },
  {
   "cell_type": "code",
   "execution_count": null,
   "metadata": {},
   "outputs": [
    {
     "name": "stdout",
     "output_type": "stream",
     "text": [
      "{'hl': 1, 'hls': 256, 'activation': 'sigmoid', 'lr': 0.1}\n",
      "Test loss: 0.2839062213897705\n",
      "Test accuracy: 0.9368000030517578\n",
      "{'hl': 1, 'hls': 256, 'activation': 'sigmoid', 'lr': 0.01}\n",
      "Test loss: 0.1251593679189682\n",
      "Test accuracy: 0.9747999906539917\n",
      "{'hl': 1, 'hls': 256, 'activation': 'sigmoid', 'lr': 0.001}\n",
      "Test loss: 0.06537221372127533\n",
      "Test accuracy: 0.9807999730110168\n",
      "{'hl': 1, 'hls': 256, 'activation': 'sigmoid', 'lr': 0.0001}\n",
      "Test loss: 0.17698323726654053\n",
      "Test accuracy: 0.9480000138282776\n",
      "{'hl': 1, 'hls': 256, 'activation': 'relu', 'lr': 0.1}\n",
      "Test loss: 1.1824473142623901\n",
      "Test accuracy: 0.8091999888420105\n",
      "{'hl': 1, 'hls': 256, 'activation': 'relu', 'lr': 0.01}\n",
      "Test loss: 0.3273589015007019\n",
      "Test accuracy: 0.9757000207901001\n",
      "{'hl': 1, 'hls': 256, 'activation': 'relu', 'lr': 0.001}\n",
      "Test loss: 0.07500723004341125\n",
      "Test accuracy: 0.9818000197410583\n",
      "{'hl': 1, 'hls': 256, 'activation': 'relu', 'lr': 0.0001}\n",
      "Test loss: 0.08359457552433014\n",
      "Test accuracy: 0.9750999808311462\n",
      "{'hl': 1, 'hls': 512, 'activation': 'sigmoid', 'lr': 0.1}\n",
      "Test loss: 0.26617151498794556\n",
      "Test accuracy: 0.9361000061035156\n",
      "{'hl': 1, 'hls': 512, 'activation': 'sigmoid', 'lr': 0.01}\n",
      "Test loss: 0.16604138910770416\n",
      "Test accuracy: 0.9726999998092651\n",
      "{'hl': 1, 'hls': 512, 'activation': 'sigmoid', 'lr': 0.001}\n",
      "Test loss: 0.0647013857960701\n",
      "Test accuracy: 0.9821000099182129\n",
      "{'hl': 1, 'hls': 512, 'activation': 'sigmoid', 'lr': 0.0001}\n",
      "Test loss: 0.16463173925876617\n",
      "Test accuracy: 0.9517999887466431\n",
      "{'hl': 1, 'hls': 512, 'activation': 'relu', 'lr': 0.1}\n",
      "Test loss: 0.7279722690582275\n",
      "Test accuracy: 0.8324000239372253\n",
      "{'hl': 1, 'hls': 512, 'activation': 'relu', 'lr': 0.01}\n",
      "Test loss: 0.39324766397476196\n",
      "Test accuracy: 0.973800003528595\n",
      "{'hl': 1, 'hls': 512, 'activation': 'relu', 'lr': 0.001}\n",
      "Test loss: 0.07587215304374695\n",
      "Test accuracy: 0.9822999835014343\n",
      "{'hl': 1, 'hls': 512, 'activation': 'relu', 'lr': 0.0001}\n",
      "Test loss: 0.07010164111852646\n",
      "Test accuracy: 0.9782000184059143\n",
      "{'hl': 1, 'hls': 1024, 'activation': 'sigmoid', 'lr': 0.1}\n",
      "Test loss: 0.6422758102416992\n",
      "Test accuracy: 0.9320999979972839\n",
      "{'hl': 1, 'hls': 1024, 'activation': 'sigmoid', 'lr': 0.01}\n",
      "Test loss: 0.1367696076631546\n",
      "Test accuracy: 0.9782999753952026\n",
      "{'hl': 1, 'hls': 1024, 'activation': 'sigmoid', 'lr': 0.001}\n",
      "Test loss: 0.0747527927160263\n",
      "Test accuracy: 0.9815999865531921\n",
      "{'hl': 1, 'hls': 1024, 'activation': 'sigmoid', 'lr': 0.0001}\n",
      "Test loss: 0.16143658757209778\n",
      "Test accuracy: 0.9531999826431274\n",
      "{'hl': 1, 'hls': 1024, 'activation': 'relu', 'lr': 0.1}\n"
     ]
    }
   ],
   "source": [
    "params = {\"hl\": range(1, 4),\n",
    "          \"hls\": [2**n for n in range(8, 11)],\n",
    "          \"activation\": [\"sigmoid\", \"relu\"],\n",
    "          \"lr\": [10**-n for n in range(1,5)]}\n",
    "\n",
    "keys, values = zip(*params.items())\n",
    "results = {}\n",
    "\n",
    "for bundle in product(*values):\n",
    "    d = dict(zip(keys, bundle))\n",
    "    print(d)\n",
    "    acc = run_model_args(d)\n",
    "    results[bundle] = acc"
   ]
  },
  {
   "cell_type": "code",
   "execution_count": 9,
   "metadata": {
    "colab": {
     "base_uri": "https://localhost:8080/"
    },
    "id": "9_oBDiZbbO0G",
    "outputId": "1d806998-8179-4112-8df0-12b2b857dca5"
   },
   "outputs": [
    {
     "name": "stdout",
     "output_type": "stream",
     "text": [
      "dict_keys(['loss', 'accuracy', 'val_loss', 'val_accuracy'])\n"
     ]
    }
   ],
   "source": [
    "print(history.history.keys())"
   ]
  },
  {
   "cell_type": "code",
   "execution_count": 10,
   "metadata": {
    "id": "K4uLWmxCbaq9"
   },
   "outputs": [],
   "source": [
    "import matplotlib.pyplot as plt"
   ]
  },
  {
   "cell_type": "code",
   "execution_count": 11,
   "metadata": {
    "colab": {
     "base_uri": "https://localhost:8080/",
     "height": 295
    },
    "id": "1wlYhPH9bcz9",
    "outputId": "d500ac81-7ca1-4e57-ebe1-fd0822aec73b"
   },
   "outputs": [
    {
     "data": {
      "image/png": "[encoded data removed]",
      "text/plain": [
       "<Figure size 432x288 with 1 Axes>"
      ]
     },
     "metadata": {
      "needs_background": "light"
     },
     "output_type": "display_data"
    }
   ],
   "source": [
    "plt.plot(history.history['accuracy'])\n",
    "plt.plot(history.history['val_accuracy'])\n",
    "plt.title('model accuracy')\n",
    "plt.ylabel('accuracy')\n",
    "plt.xlabel('epoch')\n",
    "plt.legend(['train', 'test'], loc='upper left')\n",
    "plt.show()"
   ]
  },
  {
   "cell_type": "code",
   "execution_count": null,
   "metadata": {
    "id": "f-CFFIaaEEJk"
   },
   "outputs": [],
   "source": []
  }
 ],
 "metadata": {
  "accelerator": "GPU",
  "colab": {
   "collapsed_sections": [],
   "name": "Copia de 1_mlp_basic.ipynb",
   "provenance": []
  },
  "kernelspec": {
   "display_name": "Python 3",
   "language": "python",
   "name": "python3"
  },
  "language_info": {
   "codemirror_mode": {
    "name": "ipython",
    "version": 3
   },
   "file_extension": ".py",
   "mimetype": "text/x-python",
   "name": "python",
   "nbconvert_exporter": "python",
   "pygments_lexer": "ipython3",
   "version": "3.6.9"
  }
 },
 "nbformat": 4,
 "nbformat_minor": 1
}
